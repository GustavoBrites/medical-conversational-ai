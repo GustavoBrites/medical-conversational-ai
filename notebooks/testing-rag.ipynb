{
 "cells": [
  {
   "cell_type": "code",
   "execution_count": 42,
   "id": "66f81c04-9016-4157-95f2-011ed4176718",
   "metadata": {},
   "outputs": [],
   "source": [
    "import pandas as pd\n",
    "import os\n",
    "import sys\n",
    "import importlib\n",
    "from dotenv import load_dotenv\n",
    "from tqdm.auto import tqdm\n",
    "import random\n",
    "from openai import OpenAI\n",
    "import json"
   ]
  },
  {
   "cell_type": "code",
   "execution_count": 25,
   "id": "1bfa6daa-17a9-41de-b676-d92fedc7d5b4",
   "metadata": {},
   "outputs": [],
   "source": [
    "# pip install openai"
   ]
  },
  {
   "cell_type": "code",
   "execution_count": 26,
   "id": "27cb8aa0-d491-43f2-810d-12274b03c781",
   "metadata": {},
   "outputs": [],
   "source": [
    "#importing minsearch\n",
    "sys.path.append(os.path.abspath(os.path.join(os.getcwd(), '..')))\n",
    "\n",
    "minsearch = importlib.import_module(\"med-conv-ai.minsearch\")"
   ]
  },
  {
   "cell_type": "markdown",
   "id": "5463fcb2-ac5d-4891-8005-4d4ee331feaa",
   "metadata": {},
   "source": [
    "## Loading data"
   ]
  },
  {
   "cell_type": "code",
   "execution_count": 27,
   "id": "0638e68c-7e89-418b-8899-9379a0b8a40d",
   "metadata": {},
   "outputs": [],
   "source": [
    "df = pd.read_csv(\"../data/qa_data.csv\")"
   ]
  },
  {
   "cell_type": "code",
   "execution_count": 28,
   "id": "ea5c987c-eda4-4fad-9dc3-e05dc8dd18b0",
   "metadata": {},
   "outputs": [
    {
     "data": {
      "text/html": [
       "<div>\n",
       "<style scoped>\n",
       "    .dataframe tbody tr th:only-of-type {\n",
       "        vertical-align: middle;\n",
       "    }\n",
       "\n",
       "    .dataframe tbody tr th {\n",
       "        vertical-align: top;\n",
       "    }\n",
       "\n",
       "    .dataframe thead th {\n",
       "        text-align: right;\n",
       "    }\n",
       "</style>\n",
       "<table border=\"1\" class=\"dataframe\">\n",
       "  <thead>\n",
       "    <tr style=\"text-align: right;\">\n",
       "      <th></th>\n",
       "      <th>id</th>\n",
       "      <th>question_type</th>\n",
       "      <th>question</th>\n",
       "      <th>answer</th>\n",
       "    </tr>\n",
       "  </thead>\n",
       "  <tbody>\n",
       "    <tr>\n",
       "      <th>200</th>\n",
       "      <td>224</td>\n",
       "      <td>outlook</td>\n",
       "      <td>What is the outlook for Narcolepsy ?</td>\n",
       "      <td>None of the currently available medications en...</td>\n",
       "    </tr>\n",
       "    <tr>\n",
       "      <th>201</th>\n",
       "      <td>158</td>\n",
       "      <td>outlook</td>\n",
       "      <td>What is the outlook for Inclusion Body Myositis ?</td>\n",
       "      <td>IBM is generally resistant to all therapies an...</td>\n",
       "    </tr>\n",
       "    <tr>\n",
       "      <th>202</th>\n",
       "      <td>109</td>\n",
       "      <td>outlook</td>\n",
       "      <td>What is the outlook for Dyssynergia Cerebellar...</td>\n",
       "      <td>The progression of the disorder is usually 10 ...</td>\n",
       "    </tr>\n",
       "    <tr>\n",
       "      <th>203</th>\n",
       "      <td>266</td>\n",
       "      <td>outlook</td>\n",
       "      <td>What is the outlook for Peripheral Neuropathy ?</td>\n",
       "      <td>In acute neuropathies, such as Guillain-Barr s...</td>\n",
       "    </tr>\n",
       "    <tr>\n",
       "      <th>204</th>\n",
       "      <td>61</td>\n",
       "      <td>outlook</td>\n",
       "      <td>What is the outlook for Cerebral Palsy ?</td>\n",
       "      <td>Cerebral palsy doesnt always cause profound di...</td>\n",
       "    </tr>\n",
       "    <tr>\n",
       "      <th>205</th>\n",
       "      <td>114</td>\n",
       "      <td>outlook</td>\n",
       "      <td>What is the outlook for Encephaloceles ?</td>\n",
       "      <td>The prognosis for individuals with encephaloce...</td>\n",
       "    </tr>\n",
       "    <tr>\n",
       "      <th>206</th>\n",
       "      <td>330</td>\n",
       "      <td>outlook</td>\n",
       "      <td>What is the outlook for Todd's Paralysis ?</td>\n",
       "      <td>Todd's paralysis is an indication that an indi...</td>\n",
       "    </tr>\n",
       "    <tr>\n",
       "      <th>207</th>\n",
       "      <td>110</td>\n",
       "      <td>outlook</td>\n",
       "      <td>What is the outlook for Dystonias ?</td>\n",
       "      <td>The initial symptoms can be very mild and may ...</td>\n",
       "    </tr>\n",
       "    <tr>\n",
       "      <th>208</th>\n",
       "      <td>290</td>\n",
       "      <td>outlook</td>\n",
       "      <td>What is the outlook for Restless Legs Syndrome ?</td>\n",
       "      <td>RLS is generally a life-long condition for whi...</td>\n",
       "    </tr>\n",
       "    <tr>\n",
       "      <th>209</th>\n",
       "      <td>138</td>\n",
       "      <td>outlook</td>\n",
       "      <td>What is the outlook for Gestational Trophoblas...</td>\n",
       "      <td>Certain factors affect prognosis (chance of re...</td>\n",
       "    </tr>\n",
       "  </tbody>\n",
       "</table>\n",
       "</div>"
      ],
      "text/plain": [
       "      id question_type                                           question  \\\n",
       "200  224       outlook               What is the outlook for Narcolepsy ?   \n",
       "201  158       outlook  What is the outlook for Inclusion Body Myositis ?   \n",
       "202  109       outlook  What is the outlook for Dyssynergia Cerebellar...   \n",
       "203  266       outlook    What is the outlook for Peripheral Neuropathy ?   \n",
       "204   61       outlook           What is the outlook for Cerebral Palsy ?   \n",
       "205  114       outlook           What is the outlook for Encephaloceles ?   \n",
       "206  330       outlook         What is the outlook for Todd's Paralysis ?   \n",
       "207  110       outlook                What is the outlook for Dystonias ?   \n",
       "208  290       outlook   What is the outlook for Restless Legs Syndrome ?   \n",
       "209  138       outlook  What is the outlook for Gestational Trophoblas...   \n",
       "\n",
       "                                                answer  \n",
       "200  None of the currently available medications en...  \n",
       "201  IBM is generally resistant to all therapies an...  \n",
       "202  The progression of the disorder is usually 10 ...  \n",
       "203  In acute neuropathies, such as Guillain-Barr s...  \n",
       "204  Cerebral palsy doesnt always cause profound di...  \n",
       "205  The prognosis for individuals with encephaloce...  \n",
       "206  Todd's paralysis is an indication that an indi...  \n",
       "207  The initial symptoms can be very mild and may ...  \n",
       "208  RLS is generally a life-long condition for whi...  \n",
       "209  Certain factors affect prognosis (chance of re...  "
      ]
     },
     "execution_count": 28,
     "metadata": {},
     "output_type": "execute_result"
    }
   ],
   "source": [
    "df.tail(10)"
   ]
  },
  {
   "cell_type": "markdown",
   "id": "0cafadc8-4f3c-4345-88d4-074904ed2c6d",
   "metadata": {},
   "source": [
    "## Ingestion test"
   ]
  },
  {
   "cell_type": "code",
   "execution_count": 29,
   "id": "9204a6a5-a559-4434-8ecc-4a4c80931548",
   "metadata": {},
   "outputs": [],
   "source": [
    "load_dotenv()\n",
    "\n",
    "OPENAI_API_KEY = os.environ.get('OPENAI_API_KEY')"
   ]
  },
  {
   "cell_type": "code",
   "execution_count": 30,
   "id": "1b6ba941-034c-4b94-a17b-2a61bec06d74",
   "metadata": {},
   "outputs": [],
   "source": [
    "docs = df.to_dict(orient='records')"
   ]
  },
  {
   "cell_type": "code",
   "execution_count": 31,
   "id": "5532af67-7332-446c-a6ce-a3d110851bd5",
   "metadata": {},
   "outputs": [],
   "source": [
    "index = minsearch.Index(\n",
    "    text_fields=[ \n",
    "                    'question_type',\n",
    "                    'question',\n",
    "                    'answer'],\n",
    "    keyword_fields=[\"id\"]\n",
    ") "
   ]
  },
  {
   "cell_type": "code",
   "execution_count": 32,
   "id": "7b13f4ee-3d8a-495c-b9d1-6780335e5a26",
   "metadata": {},
   "outputs": [
    {
     "data": {
      "text/plain": [
       "<med-conv-ai.minsearch.Index at 0x7e250ce453a0>"
      ]
     },
     "execution_count": 32,
     "metadata": {},
     "output_type": "execute_result"
    }
   ],
   "source": [
    "index.fit(docs)"
   ]
  },
  {
   "cell_type": "markdown",
   "id": "81b62c46-c097-4f41-84f8-092b16e68557",
   "metadata": {},
   "source": [
    "## Construction of RAG"
   ]
  },
  {
   "cell_type": "code",
   "execution_count": 33,
   "id": "9431982c-1961-4bf6-b937-e396aa873821",
   "metadata": {},
   "outputs": [],
   "source": [
    "client = OpenAI()"
   ]
  },
  {
   "cell_type": "code",
   "execution_count": 34,
   "id": "6194c7d7-60c8-49b5-92e4-ad9418c1f4c5",
   "metadata": {},
   "outputs": [],
   "source": [
    "def search(query):\n",
    "    boost = {}\n",
    "\n",
    "    results = index.search(\n",
    "        query=query,\n",
    "        filter_dict={},\n",
    "        boost_dict=boost,\n",
    "        num_results=10\n",
    "    )\n",
    "\n",
    "    return results"
   ]
  },
  {
   "cell_type": "code",
   "execution_count": 35,
   "id": "319c072c-8fce-4e8c-96da-7cca18b71902",
   "metadata": {},
   "outputs": [],
   "source": [
    "prompt_template = \"\"\"\n",
    "You're a medical doctor. Answer the QUESTION based on the CONTEXT from our exercises database.\n",
    "Use only the facts from the CONTEXT when answering the QUESTION.\n",
    "\n",
    "QUESTION: {question}\n",
    "\n",
    "CONTEXT:\n",
    "{context}\n",
    "\"\"\".strip()\n",
    "\n",
    "entry_template = \"\"\"\n",
    "question: {question}\n",
    "answer: {answer}\n",
    "\"\"\".strip()\n",
    "\n",
    "def build_prompt(query, search_results):\n",
    "    context = \"\"\n",
    "    \n",
    "    for doc in search_results:\n",
    "        context = context + entry_template.format(**doc) + \"\\n\\n\"\n",
    "\n",
    "    prompt = prompt_template.format(question=query, context=context).strip()\n",
    "    return prompt"
   ]
  },
  {
   "cell_type": "code",
   "execution_count": 36,
   "id": "8462e996-7124-4097-aa89-6f60c08a2c88",
   "metadata": {},
   "outputs": [],
   "source": [
    "def llm(prompt, model='gpt-4o-mini'):\n",
    "    response = client.chat.completions.create(\n",
    "        model=model,\n",
    "        messages=[{\"role\": \"user\", \"content\": prompt}]\n",
    "    )\n",
    "    \n",
    "    return response.choices[0].message.content"
   ]
  },
  {
   "cell_type": "code",
   "execution_count": 37,
   "id": "7389fffb-bfce-4b9f-9617-2b367ee01964",
   "metadata": {},
   "outputs": [],
   "source": [
    "def rag(query, model='gpt-4o-mini'):\n",
    "    search_results = search(query)\n",
    "    prompt = build_prompt(query, search_results)\n",
    "    #print(prompt)\n",
    "    answer = llm(prompt, model=model)\n",
    "    return answer"
   ]
  },
  {
   "cell_type": "markdown",
   "id": "37493ea2-aeb3-47b7-9124-2b56428f0eac",
   "metadata": {},
   "source": [
    "## Testing RAG answers"
   ]
  },
  {
   "cell_type": "code",
   "execution_count": 33,
   "id": "26674f94-8fda-4b76-9f73-18faab7531b4",
   "metadata": {},
   "outputs": [
    {
     "name": "stdout",
     "output_type": "stream",
     "text": [
      "The prognosis for cerebral palsy (CP) varies widely among individuals. Many people with CP do not experience profound disabilities, and for most, the disorder does not affect life expectancy. Many children with CP have average to above-average intelligence and can attend the same schools as their peers. Through supportive treatments, medications, and surgery, many individuals can improve their motor skills and ability to communicate. However, the severity of CP can differ greatly; while some children may not need special assistance, others with severe CP may be unable to walk and require extensive, lifelong care.\n"
     ]
    }
   ],
   "source": [
    "#question that has context\n",
    "question = 'What is the prognosis for Cerebral Palsy ?'\n",
    "answer = rag(question)\n",
    "print(answer)"
   ]
  },
  {
   "cell_type": "code",
   "execution_count": 15,
   "id": "826c6b9d-24fc-4852-a259-acfce10d8f37",
   "metadata": {},
   "outputs": [
    {
     "name": "stdout",
     "output_type": "stream",
     "text": [
      "The context provided does not contain specific information about the prognosis for sea sickness. Therefore, based on the facts available, I cannot provide an answer regarding the prognosis for sea sickness.\n"
     ]
    }
   ],
   "source": [
    "#question that doesn't have context\n",
    "question = 'What is the prognosis for sea sickness ?'\n",
    "answer = rag(question)\n",
    "print(answer)"
   ]
  },
  {
   "cell_type": "markdown",
   "id": "0fc6a189-c345-42c8-ad4f-764674e90812",
   "metadata": {},
   "source": [
    "## Retrieval evaluation"
   ]
  },
  {
   "cell_type": "code",
   "execution_count": 5,
   "id": "aa39c7dc-7886-4ffa-a7e2-ad181c7defb2",
   "metadata": {},
   "outputs": [],
   "source": [
    "gt_df = pd.read_csv('../data/ground-truth-retrieval-gpt-4-mini.csv')"
   ]
  },
  {
   "cell_type": "code",
   "execution_count": 8,
   "id": "9c727fbd-90d2-4628-857b-7ba3aa8a3ee7",
   "metadata": {},
   "outputs": [],
   "source": [
    "ground_truth = gt_df.to_dict(orient='records')"
   ]
  },
  {
   "cell_type": "code",
   "execution_count": 9,
   "id": "966b215b-5271-47b3-b8cb-c38252082278",
   "metadata": {},
   "outputs": [
    {
     "data": {
      "text/plain": [
       "{'id': 681,\n",
       " 'question': 'What kind of studies are being conducted regarding Striatonigral Degeneration?'}"
      ]
     },
     "execution_count": 9,
     "metadata": {},
     "output_type": "execute_result"
    }
   ],
   "source": [
    "ground_truth[0]"
   ]
  },
  {
   "cell_type": "code",
   "execution_count": 13,
   "id": "81f52a13-e03f-4506-81b6-08dc8d77da5c",
   "metadata": {},
   "outputs": [],
   "source": [
    "def hit_rate(relevance_total):\n",
    "    cnt = 0\n",
    "\n",
    "    for line in relevance_total:\n",
    "        if True in line:\n",
    "            cnt = cnt + 1\n",
    "\n",
    "    return cnt / len(relevance_total)\n",
    "\n",
    "def mrr(relevance_total):\n",
    "    total_score = 0.0\n",
    "\n",
    "    for line in relevance_total:\n",
    "        for rank in range(len(line)):\n",
    "            if line[rank] == True:\n",
    "                total_score = total_score + 1 / (rank + 1)\n",
    "\n",
    "    return total_score / len(relevance_total)"
   ]
  },
  {
   "cell_type": "code",
   "execution_count": 14,
   "id": "05737786-b529-4cfc-9370-b99884b20ea7",
   "metadata": {},
   "outputs": [],
   "source": [
    "def evaluate(ground_truth, search_function):\n",
    "    relevance_total = []\n",
    "\n",
    "    for q in tqdm(ground_truth):\n",
    "        doc_id = q['id']\n",
    "        results = search_function(q)\n",
    "        relevance = [d['id'] == doc_id for d in results]\n",
    "        relevance_total.append(relevance)\n",
    "\n",
    "    return {\n",
    "        'hit_rate': hit_rate(relevance_total),\n",
    "        'mrr': mrr(relevance_total),\n",
    "    }"
   ]
  },
  {
   "cell_type": "code",
   "execution_count": 38,
   "id": "49f253ea-7ab2-4747-bc27-bac225720569",
   "metadata": {},
   "outputs": [
    {
     "data": {
      "application/vnd.jupyter.widget-view+json": {
       "model_id": "20d39bfab89c446eae9279f319441b77",
       "version_major": 2,
       "version_minor": 0
      },
      "text/plain": [
       "  0%|          | 0/1050 [00:00<?, ?it/s]"
      ]
     },
     "metadata": {},
     "output_type": "display_data"
    },
    {
     "data": {
      "text/plain": [
       "{'hit_rate': 0.959047619047619, 'mrr': 0.8563711262282692}"
      ]
     },
     "execution_count": 38,
     "metadata": {},
     "output_type": "execute_result"
    }
   ],
   "source": [
    "evaluate(ground_truth, lambda q: search(q['question']))"
   ]
  },
  {
   "cell_type": "markdown",
   "id": "9d05e0a7-9b88-485d-8dce-6b8c0ddb526f",
   "metadata": {},
   "source": [
    "## RAG evaluation"
   ]
  },
  {
   "cell_type": "markdown",
   "id": "2db92b3e-c652-4f49-9d0b-4eca6b9788f6",
   "metadata": {},
   "source": [
    "### first prompt"
   ]
  },
  {
   "cell_type": "code",
   "execution_count": 47,
   "id": "388102ca-d48f-4eb5-a8fc-7aece40f4b26",
   "metadata": {},
   "outputs": [],
   "source": [
    "prompt_template_rag_eval = \"\"\"\n",
    "You are an expert evaluator for a RAG system.\n",
    "Your task is to analyze the relevance of the generated answer to the given question.\n",
    "Based on the relevance of the generated answer, you will classify it\n",
    "as \"NON_RELEVANT\", \"PARTLY_RELEVANT\", or \"RELEVANT\".\n",
    "\n",
    "Here is the data for evaluation:\n",
    "\n",
    "Question: {question}\n",
    "Generated Answer: {answer_llm}\n",
    "\n",
    "Please analyze the content and context of the generated answer in relation to the question\n",
    "and provide your evaluation in parsable JSON without using code blocks:\n",
    "\n",
    "{{\n",
    "  \"Relevance\": \"NON_RELEVANT\" | \"PARTLY_RELEVANT\" | \"RELEVANT\",\n",
    "  \"Explanation\": \"[Provide a brief explanation for your evaluation]\"\n",
    "}}\n",
    "\"\"\".strip()"
   ]
  },
  {
   "cell_type": "code",
   "execution_count": 44,
   "id": "6969ea4a-7a62-409b-9ecf-625cb2f7b8a8",
   "metadata": {},
   "outputs": [],
   "source": [
    "samp_df = gt_df.sample(n=200, random_state=1)"
   ]
  },
  {
   "cell_type": "code",
   "execution_count": 45,
   "id": "63a98839-bc6b-4b27-9bc0-b4c986b4dc40",
   "metadata": {},
   "outputs": [],
   "source": [
    "sample = samp_df.to_dict(orient='records')"
   ]
  },
  {
   "cell_type": "code",
   "execution_count": 48,
   "id": "ba142872-5e07-495c-97d4-bb10424c91ed",
   "metadata": {},
   "outputs": [
    {
     "data": {
      "application/vnd.jupyter.widget-view+json": {
       "model_id": "c696f67be0b24924876ce895a3bd4da2",
       "version_major": 2,
       "version_minor": 0
      },
      "text/plain": [
       "  0%|          | 0/200 [00:00<?, ?it/s]"
      ]
     },
     "metadata": {},
     "output_type": "display_data"
    }
   ],
   "source": [
    "evaluations = []\n",
    "\n",
    "for record in tqdm(sample):\n",
    "    question = record['question']\n",
    "    answer_llm = rag(question) \n",
    "\n",
    "    prompt = prompt_template_rag_eval.format(\n",
    "        question=question,\n",
    "        answer_llm=answer_llm\n",
    "    )\n",
    "\n",
    "    evaluation = llm(prompt)\n",
    "    evaluation = json.loads(evaluation)\n",
    "\n",
    "    evaluations.append((record, answer_llm, evaluation))"
   ]
  },
  {
   "cell_type": "code",
   "execution_count": 49,
   "id": "9478cd6c-8389-4990-9b02-841ce9aee7bb",
   "metadata": {},
   "outputs": [],
   "source": [
    "df_eval = pd.DataFrame(evaluations, columns=['record', 'answer', 'evaluation'])\n",
    "\n",
    "df_eval['id'] = df_eval.record.apply(lambda d: d['id'])\n",
    "df_eval['question'] = df_eval.record.apply(lambda d: d['question'])\n",
    "\n",
    "df_eval['relevance'] = df_eval.evaluation.apply(lambda d: d['Relevance'])\n",
    "df_eval['explanation'] = df_eval.evaluation.apply(lambda d: d['Explanation'])\n",
    "\n",
    "del df_eval['record']\n",
    "del df_eval['evaluation']"
   ]
  },
  {
   "cell_type": "code",
   "execution_count": 50,
   "id": "ef3f0daa-dbae-44dc-8628-c52e58cc0d0d",
   "metadata": {},
   "outputs": [
    {
     "data": {
      "text/plain": [
       "relevance\n",
       "RELEVANT           0.91\n",
       "PARTLY_RELEVANT    0.08\n",
       "NON_RELEVANT       0.01\n",
       "Name: proportion, dtype: float64"
      ]
     },
     "execution_count": 50,
     "metadata": {},
     "output_type": "execute_result"
    }
   ],
   "source": [
    "df_eval.relevance.value_counts(normalize=True)"
   ]
  },
  {
   "cell_type": "code",
   "execution_count": 52,
   "id": "0f7680bf-f28f-44c5-a441-9818f6f58bfb",
   "metadata": {},
   "outputs": [
    {
     "data": {
      "text/html": [
       "<div>\n",
       "<style scoped>\n",
       "    .dataframe tbody tr th:only-of-type {\n",
       "        vertical-align: middle;\n",
       "    }\n",
       "\n",
       "    .dataframe tbody tr th {\n",
       "        vertical-align: top;\n",
       "    }\n",
       "\n",
       "    .dataframe thead th {\n",
       "        text-align: right;\n",
       "    }\n",
       "</style>\n",
       "<table border=\"1\" class=\"dataframe\">\n",
       "  <thead>\n",
       "    <tr style=\"text-align: right;\">\n",
       "      <th></th>\n",
       "      <th>answer</th>\n",
       "      <th>id</th>\n",
       "      <th>question</th>\n",
       "      <th>relevance</th>\n",
       "      <th>explanation</th>\n",
       "    </tr>\n",
       "  </thead>\n",
       "  <tbody>\n",
       "    <tr>\n",
       "      <th>67</th>\n",
       "      <td>The context provided does not specifically men...</td>\n",
       "      <td>388</td>\n",
       "      <td>Which organizations are involved in ADHD resea...</td>\n",
       "      <td>NON_RELEVANT</td>\n",
       "      <td>The generated answer does not address the ques...</td>\n",
       "    </tr>\n",
       "    <tr>\n",
       "      <th>116</th>\n",
       "      <td>The context provided does not explicitly menti...</td>\n",
       "      <td>430</td>\n",
       "      <td>What are the two types of radiation therapy us...</td>\n",
       "      <td>NON_RELEVANT</td>\n",
       "      <td>The generated answer does not address the ques...</td>\n",
       "    </tr>\n",
       "  </tbody>\n",
       "</table>\n",
       "</div>"
      ],
      "text/plain": [
       "                                                answer   id  \\\n",
       "67   The context provided does not specifically men...  388   \n",
       "116  The context provided does not explicitly menti...  430   \n",
       "\n",
       "                                              question     relevance  \\\n",
       "67   Which organizations are involved in ADHD resea...  NON_RELEVANT   \n",
       "116  What are the two types of radiation therapy us...  NON_RELEVANT   \n",
       "\n",
       "                                           explanation  \n",
       "67   The generated answer does not address the ques...  \n",
       "116  The generated answer does not address the ques...  "
      ]
     },
     "execution_count": 52,
     "metadata": {},
     "output_type": "execute_result"
    }
   ],
   "source": [
    "df_eval[df_eval.relevance == 'NON_RELEVANT']"
   ]
  },
  {
   "cell_type": "code",
   "execution_count": 53,
   "id": "03a29d3f-448f-4100-8941-ad0e9524dd1d",
   "metadata": {},
   "outputs": [],
   "source": [
    "df_eval.to_csv('../data/rag-eval-first-prompt.csv', index=False)"
   ]
  },
  {
   "cell_type": "markdown",
   "id": "8dad3afd-d5ed-4f23-a07a-1a31181d37e2",
   "metadata": {},
   "source": [
    "## second prompt"
   ]
  },
  {
   "cell_type": "code",
   "execution_count": 54,
   "id": "53df1aba-e315-4476-805f-f0b3123cc398",
   "metadata": {},
   "outputs": [],
   "source": [
    "prompt_template_rag_eval_2 = \"\"\"\n",
    "Imagine you are a seasoned quality assurance specialist for an advanced question-answering system. \n",
    "Your expertise lies in assessing the precision and relevance of AI-generated responses. \n",
    "Today, your mission is to scrutinize the correlation between a given question and its corresponding AI-generated answer.\n",
    "Based on the relevance of the generated answer, you will classify it\n",
    "as \"NON_RELEVANT\", \"PARTLY_RELEVANT\", or \"RELEVANT\".\n",
    "\n",
    "Here is the data for evaluation:\n",
    "\n",
    "Question: {question}\n",
    "Generated Answer: {answer_llm}\n",
    "\n",
    "Please analyze the content and context of the generated answer in relation to the question\n",
    "and provide your evaluation in parsable JSON without using code blocks:\n",
    "\n",
    "{{\n",
    "  \"Relevance\": \"NON_RELEVANT\" | \"PARTLY_RELEVANT\" | \"RELEVANT\",\n",
    "  \"Explanation\": \"[Provide a brief explanation for your evaluation]\"\n",
    "}}\n",
    "\"\"\".strip()"
   ]
  },
  {
   "cell_type": "code",
   "execution_count": 55,
   "id": "5bd14c36-d8ee-4599-9af0-2e401c23e70e",
   "metadata": {},
   "outputs": [
    {
     "data": {
      "application/vnd.jupyter.widget-view+json": {
       "model_id": "3b36661c7c864992b0fc566ed7b2cd52",
       "version_major": 2,
       "version_minor": 0
      },
      "text/plain": [
       "  0%|          | 0/200 [00:00<?, ?it/s]"
      ]
     },
     "metadata": {},
     "output_type": "display_data"
    }
   ],
   "source": [
    "evaluations_2 = []\n",
    "\n",
    "for record in tqdm(sample):\n",
    "    question = record['question']\n",
    "    answer_llm = rag(question) \n",
    "\n",
    "    prompt = prompt_template_rag_eval_2.format(\n",
    "        question=question,\n",
    "        answer_llm=answer_llm\n",
    "    )\n",
    "\n",
    "    evaluation = llm(prompt)\n",
    "    evaluation = json.loads(evaluation)\n",
    "    \n",
    "    evaluations_2.append((record, answer_llm, evaluation))"
   ]
  },
  {
   "cell_type": "code",
   "execution_count": 56,
   "id": "13a32e2d-642e-417f-bc44-37815ce9585f",
   "metadata": {},
   "outputs": [],
   "source": [
    "df_eval_2 = pd.DataFrame(evaluations_2, columns=['record', 'answer', 'evaluation'])\n",
    "\n",
    "df_eval_2['id'] = df_eval_2.record.apply(lambda d: d['id'])\n",
    "df_eval_2['question'] = df_eval_2.record.apply(lambda d: d['question'])\n",
    "\n",
    "df_eval_2['relevance'] = df_eval_2.evaluation.apply(lambda d: d['Relevance'])\n",
    "df_eval_2['explanation'] = df_eval_2.evaluation.apply(lambda d: d['Explanation'])\n",
    "\n",
    "del df_eval_2['record']\n",
    "del df_eval_2['evaluation']"
   ]
  },
  {
   "cell_type": "code",
   "execution_count": 57,
   "id": "3bfb8a0e-eed7-41e6-b44d-7c3392d26e5e",
   "metadata": {},
   "outputs": [
    {
     "data": {
      "text/plain": [
       "relevance\n",
       "RELEVANT           0.955\n",
       "PARTLY_RELEVANT    0.040\n",
       "NON_RELEVANT       0.005\n",
       "Name: proportion, dtype: float64"
      ]
     },
     "execution_count": 57,
     "metadata": {},
     "output_type": "execute_result"
    }
   ],
   "source": [
    "df_eval_2.relevance.value_counts(normalize=True)"
   ]
  },
  {
   "cell_type": "code",
   "execution_count": null,
   "id": "9fb3436a-0364-427d-9403-1235e58bcf1a",
   "metadata": {},
   "outputs": [],
   "source": [
    "df_eval_2.to_csv('../data/rag-eval-second-prompt.csv', index=False)"
   ]
  }
 ],
 "metadata": {
  "kernelspec": {
   "display_name": "Python 3 (ipykernel)",
   "language": "python",
   "name": "python3"
  },
  "language_info": {
   "codemirror_mode": {
    "name": "ipython",
    "version": 3
   },
   "file_extension": ".py",
   "mimetype": "text/x-python",
   "name": "python",
   "nbconvert_exporter": "python",
   "pygments_lexer": "ipython3",
   "version": "3.12.1"
  }
 },
 "nbformat": 4,
 "nbformat_minor": 5
}
