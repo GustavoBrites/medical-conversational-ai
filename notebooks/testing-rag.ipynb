{
 "cells": [
  {
   "cell_type": "code",
   "execution_count": 13,
   "id": "66f81c04-9016-4157-95f2-011ed4176718",
   "metadata": {},
   "outputs": [],
   "source": [
    "import pandas as pd\n",
    "import os\n",
    "import sys\n",
    "import importlib\n",
    "from dotenv import load_dotenv"
   ]
  },
  {
   "cell_type": "code",
   "execution_count": 14,
   "id": "1bfa6daa-17a9-41de-b676-d92fedc7d5b4",
   "metadata": {},
   "outputs": [],
   "source": [
    "# pip install openai"
   ]
  },
  {
   "cell_type": "code",
   "execution_count": 15,
   "id": "27cb8aa0-d491-43f2-810d-12274b03c781",
   "metadata": {},
   "outputs": [],
   "source": [
    "#importing minsearch\n",
    "sys.path.append(os.path.abspath(os.path.join(os.getcwd(), '..')))\n",
    "\n",
    "minsearch = importlib.import_module(\"med-conv-ai.minsearch\")"
   ]
  },
  {
   "cell_type": "markdown",
   "id": "5463fcb2-ac5d-4891-8005-4d4ee331feaa",
   "metadata": {},
   "source": [
    "## Loading data"
   ]
  },
  {
   "cell_type": "code",
   "execution_count": 16,
   "id": "0638e68c-7e89-418b-8899-9379a0b8a40d",
   "metadata": {},
   "outputs": [],
   "source": [
    "df = pd.read_csv(\"../data/qa_data.csv\")"
   ]
  },
  {
   "cell_type": "code",
   "execution_count": 30,
   "id": "ea5c987c-eda4-4fad-9dc3-e05dc8dd18b0",
   "metadata": {},
   "outputs": [
    {
     "data": {
      "text/html": [
       "<div>\n",
       "<style scoped>\n",
       "    .dataframe tbody tr th:only-of-type {\n",
       "        vertical-align: middle;\n",
       "    }\n",
       "\n",
       "    .dataframe tbody tr th {\n",
       "        vertical-align: top;\n",
       "    }\n",
       "\n",
       "    .dataframe thead th {\n",
       "        text-align: right;\n",
       "    }\n",
       "</style>\n",
       "<table border=\"1\" class=\"dataframe\">\n",
       "  <thead>\n",
       "    <tr style=\"text-align: right;\">\n",
       "      <th></th>\n",
       "      <th>id</th>\n",
       "      <th>question_type</th>\n",
       "      <th>question</th>\n",
       "      <th>answer</th>\n",
       "    </tr>\n",
       "  </thead>\n",
       "  <tbody>\n",
       "    <tr>\n",
       "      <th>200</th>\n",
       "      <td>224</td>\n",
       "      <td>outlook</td>\n",
       "      <td>What is the outlook for Narcolepsy ?</td>\n",
       "      <td>None of the currently available medications en...</td>\n",
       "    </tr>\n",
       "    <tr>\n",
       "      <th>201</th>\n",
       "      <td>158</td>\n",
       "      <td>outlook</td>\n",
       "      <td>What is the outlook for Inclusion Body Myositis ?</td>\n",
       "      <td>IBM is generally resistant to all therapies an...</td>\n",
       "    </tr>\n",
       "    <tr>\n",
       "      <th>202</th>\n",
       "      <td>109</td>\n",
       "      <td>outlook</td>\n",
       "      <td>What is the outlook for Dyssynergia Cerebellar...</td>\n",
       "      <td>The progression of the disorder is usually 10 ...</td>\n",
       "    </tr>\n",
       "    <tr>\n",
       "      <th>203</th>\n",
       "      <td>266</td>\n",
       "      <td>outlook</td>\n",
       "      <td>What is the outlook for Peripheral Neuropathy ?</td>\n",
       "      <td>In acute neuropathies, such as Guillain-Barr s...</td>\n",
       "    </tr>\n",
       "    <tr>\n",
       "      <th>204</th>\n",
       "      <td>61</td>\n",
       "      <td>outlook</td>\n",
       "      <td>What is the outlook for Cerebral Palsy ?</td>\n",
       "      <td>Cerebral palsy doesnt always cause profound di...</td>\n",
       "    </tr>\n",
       "    <tr>\n",
       "      <th>205</th>\n",
       "      <td>114</td>\n",
       "      <td>outlook</td>\n",
       "      <td>What is the outlook for Encephaloceles ?</td>\n",
       "      <td>The prognosis for individuals with encephaloce...</td>\n",
       "    </tr>\n",
       "    <tr>\n",
       "      <th>206</th>\n",
       "      <td>330</td>\n",
       "      <td>outlook</td>\n",
       "      <td>What is the outlook for Todd's Paralysis ?</td>\n",
       "      <td>Todd's paralysis is an indication that an indi...</td>\n",
       "    </tr>\n",
       "    <tr>\n",
       "      <th>207</th>\n",
       "      <td>110</td>\n",
       "      <td>outlook</td>\n",
       "      <td>What is the outlook for Dystonias ?</td>\n",
       "      <td>The initial symptoms can be very mild and may ...</td>\n",
       "    </tr>\n",
       "    <tr>\n",
       "      <th>208</th>\n",
       "      <td>290</td>\n",
       "      <td>outlook</td>\n",
       "      <td>What is the outlook for Restless Legs Syndrome ?</td>\n",
       "      <td>RLS is generally a life-long condition for whi...</td>\n",
       "    </tr>\n",
       "    <tr>\n",
       "      <th>209</th>\n",
       "      <td>138</td>\n",
       "      <td>outlook</td>\n",
       "      <td>What is the outlook for Gestational Trophoblas...</td>\n",
       "      <td>Certain factors affect prognosis (chance of re...</td>\n",
       "    </tr>\n",
       "  </tbody>\n",
       "</table>\n",
       "</div>"
      ],
      "text/plain": [
       "      id question_type                                           question  \\\n",
       "200  224       outlook               What is the outlook for Narcolepsy ?   \n",
       "201  158       outlook  What is the outlook for Inclusion Body Myositis ?   \n",
       "202  109       outlook  What is the outlook for Dyssynergia Cerebellar...   \n",
       "203  266       outlook    What is the outlook for Peripheral Neuropathy ?   \n",
       "204   61       outlook           What is the outlook for Cerebral Palsy ?   \n",
       "205  114       outlook           What is the outlook for Encephaloceles ?   \n",
       "206  330       outlook         What is the outlook for Todd's Paralysis ?   \n",
       "207  110       outlook                What is the outlook for Dystonias ?   \n",
       "208  290       outlook   What is the outlook for Restless Legs Syndrome ?   \n",
       "209  138       outlook  What is the outlook for Gestational Trophoblas...   \n",
       "\n",
       "                                                answer  \n",
       "200  None of the currently available medications en...  \n",
       "201  IBM is generally resistant to all therapies an...  \n",
       "202  The progression of the disorder is usually 10 ...  \n",
       "203  In acute neuropathies, such as Guillain-Barr s...  \n",
       "204  Cerebral palsy doesnt always cause profound di...  \n",
       "205  The prognosis for individuals with encephaloce...  \n",
       "206  Todd's paralysis is an indication that an indi...  \n",
       "207  The initial symptoms can be very mild and may ...  \n",
       "208  RLS is generally a life-long condition for whi...  \n",
       "209  Certain factors affect prognosis (chance of re...  "
      ]
     },
     "execution_count": 30,
     "metadata": {},
     "output_type": "execute_result"
    }
   ],
   "source": [
    "df.tail(10)"
   ]
  },
  {
   "cell_type": "markdown",
   "id": "0cafadc8-4f3c-4345-88d4-074904ed2c6d",
   "metadata": {},
   "source": [
    "## Ingestion test"
   ]
  },
  {
   "cell_type": "code",
   "execution_count": 17,
   "id": "9204a6a5-a559-4434-8ecc-4a4c80931548",
   "metadata": {},
   "outputs": [],
   "source": [
    "load_dotenv()\n",
    "\n",
    "OPENAI_API_KEY = os.environ.get('OPENAI_API_KEY')"
   ]
  },
  {
   "cell_type": "code",
   "execution_count": 18,
   "id": "1b6ba941-034c-4b94-a17b-2a61bec06d74",
   "metadata": {},
   "outputs": [],
   "source": [
    "docs = df.to_dict(orient='records')"
   ]
  },
  {
   "cell_type": "code",
   "execution_count": 19,
   "id": "5532af67-7332-446c-a6ce-a3d110851bd5",
   "metadata": {},
   "outputs": [],
   "source": [
    "index = minsearch.Index(\n",
    "    text_fields=[ \n",
    "                    'question_type',\n",
    "                    'question',\n",
    "                    'answer'],\n",
    "    keyword_fields=[\"id\"]\n",
    ") "
   ]
  },
  {
   "cell_type": "code",
   "execution_count": 20,
   "id": "7b13f4ee-3d8a-495c-b9d1-6780335e5a26",
   "metadata": {},
   "outputs": [
    {
     "data": {
      "text/plain": [
       "<med-conv-ai.minsearch.Index at 0x727fe31ceb10>"
      ]
     },
     "execution_count": 20,
     "metadata": {},
     "output_type": "execute_result"
    }
   ],
   "source": [
    "index.fit(docs)"
   ]
  },
  {
   "cell_type": "markdown",
   "id": "81b62c46-c097-4f41-84f8-092b16e68557",
   "metadata": {},
   "source": [
    "## Construction of RAG"
   ]
  },
  {
   "cell_type": "code",
   "execution_count": 21,
   "id": "9431982c-1961-4bf6-b937-e396aa873821",
   "metadata": {},
   "outputs": [],
   "source": [
    "from openai import OpenAI\n",
    "\n",
    "client = OpenAI()"
   ]
  },
  {
   "cell_type": "code",
   "execution_count": 22,
   "id": "6194c7d7-60c8-49b5-92e4-ad9418c1f4c5",
   "metadata": {},
   "outputs": [],
   "source": [
    "def search(query):\n",
    "    boost = {}\n",
    "\n",
    "    results = index.search(\n",
    "        query=query,\n",
    "        filter_dict={},\n",
    "        boost_dict=boost,\n",
    "        num_results=10\n",
    "    )\n",
    "\n",
    "    return results"
   ]
  },
  {
   "cell_type": "code",
   "execution_count": 23,
   "id": "319c072c-8fce-4e8c-96da-7cca18b71902",
   "metadata": {},
   "outputs": [],
   "source": [
    "prompt_template = \"\"\"\n",
    "You're a medical doctor. Answer the QUESTION based on the CONTEXT from our exercises database.\n",
    "Use only the facts from the CONTEXT when answering the QUESTION.\n",
    "\n",
    "QUESTION: {question}\n",
    "\n",
    "CONTEXT:\n",
    "{context}\n",
    "\"\"\".strip()\n",
    "\n",
    "entry_template = \"\"\"\n",
    "question: {question}\n",
    "answer: {answer}\n",
    "\"\"\".strip()\n",
    "\n",
    "def build_prompt(query, search_results):\n",
    "    context = \"\"\n",
    "    \n",
    "    for doc in search_results:\n",
    "        context = context + entry_template.format(**doc) + \"\\n\\n\"\n",
    "\n",
    "    prompt = prompt_template.format(question=query, context=context).strip()\n",
    "    return prompt"
   ]
  },
  {
   "cell_type": "code",
   "execution_count": 24,
   "id": "8462e996-7124-4097-aa89-6f60c08a2c88",
   "metadata": {},
   "outputs": [],
   "source": [
    "def llm(prompt, model='gpt-4o-mini'):\n",
    "    response = client.chat.completions.create(\n",
    "        model=model,\n",
    "        messages=[{\"role\": \"user\", \"content\": prompt}]\n",
    "    )\n",
    "    \n",
    "    return response.choices[0].message.content"
   ]
  },
  {
   "cell_type": "code",
   "execution_count": 25,
   "id": "7389fffb-bfce-4b9f-9617-2b367ee01964",
   "metadata": {},
   "outputs": [],
   "source": [
    "def rag(query, model='gpt-4o-mini'):\n",
    "    search_results = search(query)\n",
    "    prompt = build_prompt(query, search_results)\n",
    "    #print(prompt)\n",
    "    answer = llm(prompt, model=model)\n",
    "    return answer"
   ]
  },
  {
   "cell_type": "code",
   "execution_count": 33,
   "id": "26674f94-8fda-4b76-9f73-18faab7531b4",
   "metadata": {},
   "outputs": [
    {
     "name": "stdout",
     "output_type": "stream",
     "text": [
      "The prognosis for cerebral palsy (CP) varies widely among individuals. Many people with CP do not experience profound disabilities, and for most, the disorder does not affect life expectancy. Many children with CP have average to above-average intelligence and can attend the same schools as their peers. Through supportive treatments, medications, and surgery, many individuals can improve their motor skills and ability to communicate. However, the severity of CP can differ greatly; while some children may not need special assistance, others with severe CP may be unable to walk and require extensive, lifelong care.\n"
     ]
    }
   ],
   "source": [
    "question = 'What is the prognosis for Cerebral Palsy ?'\n",
    "answer = rag(question)\n",
    "print(answer)"
   ]
  },
  {
   "cell_type": "code",
   "execution_count": null,
   "id": "826c6b9d-24fc-4852-a259-acfce10d8f37",
   "metadata": {},
   "outputs": [],
   "source": []
  }
 ],
 "metadata": {
  "kernelspec": {
   "display_name": "Python 3 (ipykernel)",
   "language": "python",
   "name": "python3"
  },
  "language_info": {
   "codemirror_mode": {
    "name": "ipython",
    "version": 3
   },
   "file_extension": ".py",
   "mimetype": "text/x-python",
   "name": "python",
   "nbconvert_exporter": "python",
   "pygments_lexer": "ipython3",
   "version": "3.12.1"
  }
 },
 "nbformat": 4,
 "nbformat_minor": 5
}
